{
 "cells": [
  {
   "cell_type": "markdown",
   "metadata": {
    "vscode": {
     "languageId": "latex"
    }
   },
   "source": [
    "### Question 1\n",
    "### How many multiplications and additions do you need to perform a matrix multiplication between a (n, k) and (k, m) matrix? Explain."
   ]
  },
  {
   "cell_type": "markdown",
   "metadata": {},
   "source": [
    "#### Matrix_1 (2X2)\n",
    "\n",
    "\\begin{bmatrix}\n",
    "    a & b\\\\\n",
    "    p & q\n",
    "\\end{bmatrix}\n",
    "\n",
    "#### Matrix_2 (2X3)\n",
    "\n",
    "\\begin{bmatrix}\n",
    "    u & v & w\\\\\n",
    "    x & y & z\n",
    "\\end{bmatrix}\n",
    "\n",
    "#### Multiplication Matrix (2X3)\n",
    "\n",
    "\\begin{bmatrix}\n",
    "    (a.u)+(b.x) & (a.v)+(b.y) & (a.w)+(b.z)\\\\\n",
    "    (p.u)+(q.x) & (p.v)+(q.y) & (p.w)+(q.z)\\\\\n",
    "\\end{bmatrix}\n",
    "\n",
    "#### Result:\n",
    "1. Addition Operation: 6\n",
    "2. Multiplication Operation: 12\n",
    "\n",
    "#### Explain:\n",
    "\n",
    "#### Matrix_1 (nXk)\n",
    "\n",
    "\\begin{bmatrix} \n",
    "    a_{11} & a_{12} & \\dots \\\\\n",
    "    \\vdots & \\ddots & \\\\\n",
    "    a_{n1} &        & a_{nk} \n",
    "\\end{bmatrix}\n",
    "\n",
    "#### Matrix_2 (kXm)\n",
    "\n",
    "\\begin{bmatrix} \n",
    "    b_{11} & b_{12} & \\dots \\\\\n",
    "    \\vdots & \\ddots & \\\\\n",
    "    b_{k1} &        & b_{km} \n",
    "\\end{bmatrix}\n",
    "\n",
    "#### Multiplication Matrix (nXm)\n",
    "\n",
    "\\begin{bmatrix} \n",
    "    (a_{11} . b_{11}) & (a_{12} . b_{21}) & \\dots \\\\\n",
    "    \\vdots & \\ddots & \\\\\n",
    "    (a_{n1} . b_{11}) &        & (a_{nk} . b_{km}) \n",
    "\\end{bmatrix}\n",
    "\n",
    "#### Result\n",
    "\n",
    "1. Additions : $n \\times (k-1) \\times m$\n",
    "2. Multiplication : $n \\times k \\times m$\n"
   ]
  },
  {
   "cell_type": "markdown",
   "metadata": {},
   "source": [
    "### Question 2\n",
    "### Write Python code to multiply the above two matrices. Solve using list of lists and then use numpy. Compare the timing of both solutions. Which one is faster? Why?"
   ]
  },
  {
   "cell_type": "code",
   "execution_count": 1,
   "metadata": {},
   "outputs": [
    {
     "name": "stdout",
     "output_type": "stream",
     "text": [
      "Result using Python Code:\n",
      "[114, 160, 60, 27]\n",
      "[74, 97, 73, 14]\n",
      "[119, 157, 112, 23]\n",
      "\n",
      "Result using NumPy:\n",
      "[[114 160  60  27]\n",
      " [ 74  97  73  14]\n",
      " [119 157 112  23]]\n",
      "\n",
      "Time using Python lists: 0.069374 seconds\n",
      "Time using NumPy: 0.017015 seconds\n"
     ]
    }
   ],
   "source": [
    "# import timeit module\n",
    "import timeit\n",
    "\n",
    "# import numpy module\n",
    "import numpy as np\n",
    "\n",
    "# take a 3x3 matrix A\n",
    "matrix_A = [[12, 7, 3],\n",
    "    [4, 5, 6],\n",
    "    [7, 8, 9]]\n",
    "\n",
    "# take a 3x4 matrix B\n",
    "matrix_B = [[5, 8, 1, 2],\n",
    "    [6, 7, 3, 0],\n",
    "    [4, 5, 9, 1]]\n",
    "\n",
    "# convert lists to Numpy arrays\n",
    "np_matrix_A = np.array(matrix_A)\n",
    "np_matrix_B = np.array(matrix_B)\n",
    " \n",
    "# result will be 3x4\n",
    "\n",
    "def multiply_matrices_python(matrix_A, matrix_B):   \n",
    "    # Program to multiply two matrices using list comprehension\n",
    "    result = [[sum(a * b for a, b in zip(A_row, B_col)) \n",
    "                        for B_col in zip(*matrix_B)]\n",
    "                                for A_row in matrix_A]\n",
    "\n",
    "    return result\n",
    "\n",
    "result_python_code = multiply_matrices_python(matrix_A, matrix_B)\n",
    "# Multiply matrices using NumPy\n",
    "result_numpy = np.dot(np_matrix_A, np_matrix_B)\n",
    "\n",
    "print(\"Result using Python Code:\")\n",
    "for r in result_python_code:\n",
    "    print(r)\n",
    "    \n",
    "print(\"\\nResult using NumPy:\")\n",
    "print(result_numpy)\n",
    "\n",
    "# Measure time for Python lists\n",
    "time_python = timeit.timeit(lambda: multiply_matrices_python(matrix_A, matrix_B), number=10000)\n",
    "\n",
    "# Measure time for NumPy\n",
    "time_numpy = timeit.timeit(lambda: np.dot(np_matrix_A, np_matrix_B), number=10000)\n",
    "\n",
    "print(f\"\\nTime using Python lists: {time_python:.6f} seconds\")\n",
    "print(f\"Time using NumPy: {time_numpy:.6f} seconds\")\n",
    "\n"
   ]
  },
  {
   "cell_type": "markdown",
   "metadata": {},
   "source": [
    "##### The NumPy solution is expected to be faster for larger matrices. NumPy is optimized for numerical operations, making it more efficient than pure Python lists, for large-scale matrix operations."
   ]
  },
  {
   "cell_type": "markdown",
   "metadata": {},
   "source": [
    "### Question 3\n",
    "### Finding the highest element in a list requires one pass of the array. Finding the second highest element requires 2 passes of the the array. Using this method, what is the time complexity of finding the median of the array? Can you suggest a better method? Can you implement both these methods in Python and compare against numpy.median routine in terms of time?"
   ]
  },
  {
   "cell_type": "markdown",
   "metadata": {},
   "source": [
    "### Method 1: Finding the highest element in a list requires one pass of the array. Finding the second highest element requires 2 passes of the the array"
   ]
  },
  {
   "cell_type": "code",
   "execution_count": 2,
   "metadata": {},
   "outputs": [],
   "source": [
    "def method_1(arr):\n",
    "  n = len(arr)\n",
    "  # Copy the array\n",
    "  arr = arr.copy()\n",
    "  for i in range(n//2 + 1):\n",
    "    # Find the highest element in the current array\n",
    "    max_index = 0\n",
    "    max_value = arr[0]\n",
    "    for j in range(1, n - i):\n",
    "      if arr[j] > max_value:\n",
    "        max_index = j\n",
    "        max_value = arr[j]\n",
    "    # Swap \n",
    "    arr[max_index], arr[n - i - 1] = arr[n - i - 1], arr[max_index]\n",
    "  # If n is odd, return the middle element\n",
    "  if n % 2 == 1:\n",
    "    return arr[n//2]\n",
    "  # If n is even, return the average of the middle two elements\n",
    "  else:\n",
    "    return (arr[n//2 - 1] + arr[n//2]) / 2"
   ]
  },
  {
   "cell_type": "markdown",
   "metadata": {},
   "source": [
    "### Method 2: Using the median-of-medians algorithm"
   ]
  },
  {
   "cell_type": "code",
   "execution_count": 3,
   "metadata": {},
   "outputs": [],
   "source": [
    "def method_2(arr):\n",
    "  n = len(arr)\n",
    "  # Base case\n",
    "  if n == 1:\n",
    "    return arr[0]\n",
    "  # Divide the array into subarrays of size 5\n",
    "  subarrays = [arr[i:i+5] for i in range(0, n, 5)]\n",
    "  # Find the median of each subarray\n",
    "  medians = [sorted(sub)[len(sub)//2] for sub in subarrays]\n",
    "  pivot = method_2(medians)\n",
    "  # Partition\n",
    "  left = [x for x in arr if x < pivot]\n",
    "  middle = [x for x in arr if x == pivot]\n",
    "  right = [x for x in arr if x > pivot]\n",
    "  if len(left) > n//2:\n",
    "    return method_2(left)\n",
    "  elif len(left) + len(middle) > n//2:\n",
    "    return pivot\n",
    "  else:\n",
    "    return method_2(right)"
   ]
  },
  {
   "cell_type": "markdown",
   "metadata": {},
   "source": [
    "### Time"
   ]
  },
  {
   "cell_type": "code",
   "execution_count": 4,
   "metadata": {},
   "outputs": [
    {
     "name": "stdout",
     "output_type": "stream",
     "text": [
      "\n",
      "Method 1: Median = 6, Time = 0.031096 seconds\n",
      "\n",
      "Method 2: Median = 6, Time = 0.046136 seconds\n"
     ]
    }
   ],
   "source": [
    "arr = [4,6,5,10,12]\n",
    "# Method 1\n",
    "med_1 = method_1(arr)\n",
    "time_method_1 = timeit.timeit(lambda: method_1(arr), number=10000)\n",
    "print(f\"\\nMethod 1: Median = {med_1}, Time = {time_method_1:.6f} seconds\")\n",
    "\n",
    "# Method 2\n",
    "med_2 = method_2(arr)\n",
    "time_method_2 = timeit.timeit(lambda: method_2(arr), number=10000)\n",
    "print(f\"\\nMethod 2: Median = {med_2}, Time = {time_method_2:.6f} seconds\")\n"
   ]
  },
  {
   "cell_type": "markdown",
   "metadata": {
    "editable": true,
    "slideshow": {
     "slide_type": ""
    },
    "tags": []
   },
   "source": [
    "### Numpy median"
   ]
  },
  {
   "cell_type": "code",
   "execution_count": 5,
   "metadata": {},
   "outputs": [
    {
     "name": "stdout",
     "output_type": "stream",
     "text": [
      "Numpy median: Median = 6.0, Time = 0.0009236000000001354 seconds\n"
     ]
    }
   ],
   "source": [
    "med_3 = np.median(arr)\n",
    "print(f\"Numpy median: Median = {med_3}, Time = {timeit.timeit(lambda: med_3, number=10000)} seconds\")"
   ]
  },
  {
   "cell_type": "markdown",
   "metadata": {},
   "source": [
    "### Question 4\n",
    "### What is the gradient of the following function with respect to x and y?\n",
    "$$x^{2}y + y^3sin(x)$$"
   ]
  },
  {
   "cell_type": "markdown",
   "metadata": {},
   "source": [
    "##### The gradient of a function $f$, denoted as $\\nabla f$, is the collection of all its partial derivatives into a vector.\n",
    "\n",
    "$$ \n",
    "\\nabla f(x_0,y_0,...) = \\begin{bmatrix}\n",
    "\\frac{\\delta f}{\\delta x} (x_0,y_0,...) \\\\[0.3em]\n",
    "\\frac{\\delta f}{\\delta y} (x_0,y_0,...) \\\\[0.3em]\n",
    "\\vdots\n",
    "\\end{bmatrix}\n",
    "$$\n",
    "\n",
    "##### Find the partial derivative with respect to $ \\frac{\\delta f}{\\delta x} $\n",
    "$$ \n",
    "\\frac{\\delta}{\\delta x} (x^{2}y + y^3sin(x))\n",
    "= 2xy + y^3cos(x)\n",
    "$$\n",
    "\n",
    "##### Find the partial derivative with respect to $ \\frac{\\delta f}{\\delta y} $\n",
    "$$ \n",
    "\\frac{\\delta}{\\delta y} (x^{2}y + y^3sin(x))\n",
    "= x^2 + 3y^2sin(x)\n",
    "$$\n",
    "\n",
    "##### Final \n",
    "$$ \n",
    "\\nabla f(x , y) = \\begin{bmatrix}\n",
    "2xy + y^3cos(x) \\\\[0.3em]\n",
    "x^2 + 3y^2sin(x)\n",
    "\\end{bmatrix}\n",
    "$$"
   ]
  },
  {
   "cell_type": "markdown",
   "metadata": {},
   "source": [
    "### Question 5\n",
    "### Use JAX to confirm the gradient evaluated by your method matches the analytical solution corresponding to a few random values of x and y"
   ]
  },
  {
   "cell_type": "markdown",
   "metadata": {},
   "source": [
    "##### JAX - NumPy on the CPU, GPU, and TPU, with great automatic differentiation for high-performance machine learning research.\n"
   ]
  },
  {
   "cell_type": "code",
   "execution_count": 6,
   "metadata": {},
   "outputs": [
    {
     "name": "stdout",
     "output_type": "stream",
     "text": [
      "Gradient using JAX: 0.85570043 0.46309963\n",
      "Gradient using the analytical solution: 0.85570043 0.46309963\n",
      "\n",
      "The Gradient Matched!!\n"
     ]
    }
   ],
   "source": [
    "import jax\n",
    "import jax.numpy as jnp\n",
    "\n",
    "# Define the function\n",
    "def f(x, y):\n",
    "    return ((x**2) * y) + ((y**3) * (jnp.sin(x)))\n",
    "\n",
    "# The gradient is a function that takes a pair of inputs and returns a pair of outputs\n",
    "grad_f = jax.grad(f, argnums=(0, 1))\n",
    "# print(grad_f)\n",
    "# Generate some random values of x and y\n",
    "key = jax.random.PRNGKey(0)\n",
    "# print(key)\n",
    "x, y = jax.random.uniform(key, shape=(2,))\n",
    "# print(x,y)\n",
    "\n",
    "# Evaluate the gradient using JAX\n",
    "grad_f_x, grad_f_y = grad_f(x, y)\n",
    "print(\"Gradient using JAX:\", grad_f_x, grad_f_y)\n",
    "\n",
    "# Evaluate the gradient using the analytical solution\n",
    "grad_f_x_analytical_solution = ((2 * x) * y) + ((y**3) * (jnp.cos(x)))\n",
    "grad_f_y_analytical_solution = (x**2) + ((3 * (y**2)) * (jnp.sin(x)))\n",
    "print(\"Gradient using the analytical solution:\", grad_f_x_analytical_solution, grad_f_y_analytical_solution)\n",
    "\n",
    "print()\n",
    "print(\"The Gradient Matched!!\")\n",
    "\n"
   ]
  },
  {
   "cell_type": "markdown",
   "metadata": {},
   "source": [
    "### Question 6\n",
    "### Use sympy to confirm that you obtain the same gradient analytically."
   ]
  },
  {
   "cell_type": "markdown",
   "metadata": {},
   "source": [
    "##### symPy is a Python library for symbolic mathematics. It aims to become a full-featured computer algebra system (CAS) while keeping the code as simple as possible in order to be comprehensible and easily extensible. SymPy is written entirely in Python."
   ]
  },
  {
   "cell_type": "code",
   "execution_count": 7,
   "metadata": {},
   "outputs": [
    {
     "name": "stdout",
     "output_type": "stream",
     "text": [
      "Partial derivative with respect to x:  2*x*y + y**3*cos(x)\n",
      "Partial derivative with respect to y:  x**2 + 3*y**2*sin(x)\n",
      "\n",
      "Gradient matrix: Matrix([[2*x*y + y**3*cos(x)], [x**2 + 3*y**2*sin(x)]])\n"
     ]
    }
   ],
   "source": [
    "import sympy as sp\n",
    "\n",
    "x , y = sp.symbols('x y')\n",
    "# print(x , y)\n",
    "\n",
    "f = ((x**2) * y) + ((y**3) * (sp.sin(x)))\n",
    "\n",
    "f_x = f.diff(x)\n",
    "print(\"Partial derivative with respect to x: \", f_x) # output 2*x*y + y**3*cos(x)\n",
    "\n",
    "f_y = f.diff(y)\n",
    "print(\"Partial derivative with respect to y: \",f_y) # output x**2 + 3*y**2*sin(x)\n",
    "print()\n",
    "\n",
    "print(\"Gradient matrix:\", sp.Matrix([[f_x] , [f_y]]))"
   ]
  },
  {
   "cell_type": "markdown",
   "metadata": {},
   "source": [
    "### Question 7\n",
    "### Create a Python nested dictionary to represent hierarchical information. We want to store record of students and their marks Something like:"
   ]
  },
  {
   "cell_type": "markdown",
   "metadata": {},
   "source": [
    "- 2022\n",
    "    - Branch 1\n",
    "        - Roll Number: 1\n",
    "        - Name: N\n",
    "        - Marks\n",
    "            - Maths: 100\n",
    "            - English: 70\n",
    "    - Branch 2\n",
    "- 2023\n",
    "    - Branch 1\n",
    "    - Branch 2\n",
    "- 2024\n",
    "    - Branch 1\n",
    "    - Branch 2\n",
    "- 2025\n",
    "    - Branch 1\n",
    "    - Branch 2"
   ]
  },
  {
   "cell_type": "markdown",
   "metadata": {},
   "source": [
    "##### Dictionary - Dictionaries are used to store data values in key:value pairs.\n",
    "##### A dictionary is a collection which is ordered*, changeable and do not allow duplicates.\n",
    "\n",
    "``` python\n",
    "nested_dict = {\n",
    "    'key_1' : {\n",
    "        'nested_key_1' : 'value_1'\n",
    "    },\n",
    "    'key_2' : {\n",
    "        'nested_key_2' : 'value_2'\n",
    "    }\n",
    "}\n",
    "```"
   ]
  },
  {
   "cell_type": "code",
   "execution_count": 8,
   "metadata": {},
   "outputs": [
    {
     "name": "stdout",
     "output_type": "stream",
     "text": [
      "{'Maths': 100, 'English': 70}\n"
     ]
    }
   ],
   "source": [
    "students = {\n",
    "    2022: {\n",
    "        'Branch 1' : {\n",
    "            'Roll Number': 1,\n",
    "            'Name': 'N',\n",
    "            'Marks': {\n",
    "                'Maths' : 100,\n",
    "                'English' : 70\n",
    "            }\n",
    "        },\n",
    "        'Branch 2' : {}\n",
    "    },\n",
    "    2023: {\n",
    "        'Branch 1' : {},\n",
    "        'Branch 2' : {}\n",
    "    },\n",
    "    2024: {\n",
    "        'Branch 1' : {},\n",
    "        'Branch 2' : {}\n",
    "    },\n",
    "    2025: {\n",
    "        'Branch 1' : {},\n",
    "        'Branch 2' : {}\n",
    "    }\n",
    "}\n",
    "\n",
    "print(students[2022]['Branch 1']['Marks'])"
   ]
  },
  {
   "cell_type": "markdown",
   "metadata": {},
   "source": [
    "### Question 8\n",
    "\n",
    "### Store the same information using Python classes. We have an overall database which is a list of year objects. Each year contains a list of branches. Each branch contains a list of students. Each student has some properties like name, roll number and has marks in some subjects."
   ]
  },
  {
   "cell_type": "code",
   "execution_count": 9,
   "metadata": {},
   "outputs": [
    {
     "name": "stdout",
     "output_type": "stream",
     "text": [
      "2022\n",
      "Branch 1\n",
      "N\n",
      "1\n",
      "100\n",
      "70\n"
     ]
    }
   ],
   "source": [
    "class Year:\n",
    "    def __init__(self, year):\n",
    "        self.year = year\n",
    "        self.branches = []\n",
    "\n",
    "    def add_branch(self, branch):\n",
    "        self.branches.append(branch)\n",
    "\n",
    "\n",
    "class Branch:\n",
    "    def __init__(self, name):\n",
    "        self.name = name\n",
    "        self.students = []\n",
    "\n",
    "    def add_student(self, student):\n",
    "        self.students.append(student)\n",
    "\n",
    "\n",
    "class Student:\n",
    "    def __init__(self, roll_number, name, marks):\n",
    "        self.roll_number = roll_number\n",
    "        self.name = name\n",
    "        self.marks = marks\n",
    "\n",
    "data = [Year(2022) , Year(2023) , Year(2024) , Year(2025)]\n",
    "\n",
    "for _ in range(len(data)):\n",
    "    data[_].add_branch(Branch('Branch 1'))\n",
    "    data[_].add_branch(Branch('Branch 2'))\n",
    "    \n",
    "data[0].branches[0].add_student(Student(1, 'N', {'Maths': 100, 'English': 70}))\n",
    "\n",
    "print(data[0].year) # Output: 2022\n",
    "print(data[0].branches[0].name) # Output: Branch 1\n",
    "print(data[0].branches[0].students[0].name) # Output: N\n",
    "print(data[0].branches[0].students[0].roll_number) # Output: 1\n",
    "print(data[0].branches[0].students[0].marks['Maths']) # Output: 100\n",
    "print(data[0].branches[0].students[0].marks['English']) # Output: 70\n"
   ]
  },
  {
   "cell_type": "markdown",
   "metadata": {},
   "source": [
    "### Question 9\n",
    "\n",
    "#### Using matplotlib plot the following functions on the domain: x = 0.5 to 100.0 in steps of 0.5.\n",
    "\n",
    "1. $  y = x $\n",
    "2. $ y = x^2 $\n",
    "3. $ y = \\frac{x^3}{100} $\n",
    "4. $ y = sin(x) $\n",
    "5. $ y = log(x) $\n",
    "6. $ y = e^x $"
   ]
  },
  {
   "cell_type": "markdown",
   "metadata": {},
   "source": [
    "## 1. $ y = x $"
   ]
  },
  {
   "cell_type": "code",
   "execution_count": 10,
   "metadata": {},
   "outputs": [
    {
     "data": {
      "image/png": "[encoded data removed]",
      "text/plain": [
       "<Figure size 640x480 with 1 Axes>"
      ]
     },
     "metadata": {},
     "output_type": "display_data"
    }
   ],
   "source": [
    "import matplotlib.pyplot as plt\n",
    "import numpy as np\n",
    "\n",
    "x = np.arange(0.5, 100.5, 0.5)\n",
    "y = x\n",
    "\n",
    "plt.plot(x,y,label = '$y = x$')\n",
    "\n",
    "plt.xlabel('x axis')\n",
    "plt.ylabel('y axis')\n",
    "plt.title('Plot: $y = x$')\n",
    "\n",
    "plt.grid(True)\n",
    "\n",
    "plt.legend()\n",
    "plt.show()"
   ]
  },
  {
   "cell_type": "markdown",
   "metadata": {},
   "source": [
    "## 2. $ y = x^2 $"
   ]
  },
  {
   "cell_type": "code",
   "execution_count": 11,
   "metadata": {},
   "outputs": [
    {
     "data": {
      "image/png": "[encoded data removed]",
      "text/plain": [
       "<Figure size 640x480 with 1 Axes>"
      ]
     },
     "metadata": {},
     "output_type": "display_data"
    }
   ],
   "source": [
    "import matplotlib.pyplot as plt\n",
    "import numpy as np\n",
    "\n",
    "x = np.arange(0.5, 100.5, 0.5)\n",
    "y = x**2\n",
    "\n",
    "plt.plot(x,y,label = '$y = x^2$')\n",
    "\n",
    "plt.xlabel('x axis')\n",
    "plt.ylabel('y axis')\n",
    "plt.title('Plot: $y = x^2$')\n",
    "\n",
    "plt.grid(True)\n",
    "\n",
    "plt.legend()\n",
    "plt.show()"
   ]
  },
  {
   "cell_type": "markdown",
   "metadata": {},
   "source": [
    "## 3. $ y = \\frac{x^3}{100} $"
   ]
  },
  {
   "cell_type": "code",
   "execution_count": 12,
   "metadata": {},
   "outputs": [
    {
     "data": {
      "image/png": "[encoded data removed]",
      "text/plain": [
       "<Figure size 640x480 with 1 Axes>"
      ]
     },
     "metadata": {},
     "output_type": "display_data"
    }
   ],
   "source": [
    "import matplotlib.pyplot as plt\n",
    "import numpy as np\n",
    "\n",
    "x = np.arange(0.5, 100.5, 0.5)\n",
    "y = (x**3)/100\n",
    "\n",
    "plt.plot(x,y,label = '$y = \\\\frac{x^3}{100}$')\n",
    "\n",
    "plt.xlabel('x axis')\n",
    "plt.ylabel('y axis')\n",
    "plt.title('Plot: $y = \\\\frac{x^3}{100}$')\n",
    "\n",
    "plt.grid(True)\n",
    "\n",
    "plt.legend()\n",
    "plt.show()"
   ]
  },
  {
   "cell_type": "markdown",
   "metadata": {},
   "source": [
    "## 4. $ y = sin(x) $"
   ]
  },
  {
   "cell_type": "code",
   "execution_count": 13,
   "metadata": {},
   "outputs": [
    {
     "data": {
      "image/png": "[encoded data removed]",
      "text/plain": [
       "<Figure size 640x480 with 1 Axes>"
      ]
     },
     "metadata": {},
     "output_type": "display_data"
    }
   ],
   "source": [
    "import matplotlib.pyplot as plt\n",
    "import numpy as np\n",
    "\n",
    "x = np.arange(0.5, 100.5, 0.5)\n",
    "y = np.sin(x)\n",
    "\n",
    "plt.plot(x,y,label = '$y = \\\\frac{x^3}{100}$')\n",
    "\n",
    "plt.xlabel('x axis')\n",
    "plt.ylabel('y axis')\n",
    "plt.title('Plot: $y = \\\\frac{x^3}{100}$')\n",
    "\n",
    "plt.grid(True)\n",
    "\n",
    "plt.legend()\n",
    "plt.show()"
   ]
  },
  {
   "cell_type": "markdown",
   "metadata": {},
   "source": [
    "## 5. $ y = log(x) $"
   ]
  },
  {
   "cell_type": "code",
   "execution_count": 14,
   "metadata": {},
   "outputs": [
    {
     "data": {
      "image/png": "[encoded data removed]",
      "text/plain": [
       "<Figure size 640x480 with 1 Axes>"
      ]
     },
     "metadata": {},
     "output_type": "display_data"
    }
   ],
   "source": [
    "import matplotlib.pyplot as plt\n",
    "import numpy as np\n",
    "\n",
    "x = np.arange(0.5, 100.5, 0.5)\n",
    "y = np.log(x)\n",
    "\n",
    "plt.plot(x,y,label = '$ y = log(x) $')\n",
    "\n",
    "plt.xlabel('x axis')\n",
    "plt.ylabel('y axis')\n",
    "plt.title('Plot: $ y = log(x) $')\n",
    "\n",
    "plt.grid(True)\n",
    "\n",
    "plt.legend()\n",
    "plt.show()"
   ]
  },
  {
   "cell_type": "markdown",
   "metadata": {},
   "source": [
    "## 6. $ y = e^x $"
   ]
  },
  {
   "cell_type": "code",
   "execution_count": 15,
   "metadata": {},
   "outputs": [
    {
     "data": {
      "image/png": "[encoded data removed]",
      "text/plain": [
       "<Figure size 640x480 with 1 Axes>"
      ]
     },
     "metadata": {},
     "output_type": "display_data"
    }
   ],
   "source": [
    "import matplotlib.pyplot as plt\n",
    "import numpy as np\n",
    "\n",
    "x = np.arange(0.5, 100.5, 0.5)\n",
    "y = np.exp(x)\n",
    "\n",
    "plt.plot(x,y,label = '$ y = e^x $')\n",
    "\n",
    "plt.xlabel('x axis')\n",
    "plt.ylabel('y axis')\n",
    "plt.title('Plot: $ y = e^x $')\n",
    "\n",
    "plt.grid(True)\n",
    "\n",
    "plt.legend()\n",
    "plt.show()"
   ]
  },
  {
   "cell_type": "markdown",
   "metadata": {},
   "source": [
    "### Question 10\n",
    "### Using numpy generate a matrix of size 20X5 containing random numbers drawn uniformly from the range of 1 to 2. Using Pandas create a dataframe out of this matrix. Name the columns of the dataframe as “a”, “b”, “c”, “d”, “e”. Find the column with the highest standard deviation. Find the row with the lowest mean."
   ]
  },
  {
   "cell_type": "markdown",
   "metadata": {},
   "source": [
    "#### Using numpy generate a matrix of size 20X5 containing random numbers drawn uniformly from the range of 1 to 2. "
   ]
  },
  {
   "cell_type": "code",
   "execution_count": 16,
   "metadata": {},
   "outputs": [
    {
     "name": "stdout",
     "output_type": "stream",
     "text": [
      "[[1.17822215 1.96881393 1.28077862 1.31731598 1.90790682]\n",
      " [1.66105207 1.8799776  1.96303991 1.01108044 1.60228967]\n",
      " [1.73068506 1.57500806 1.61875621 1.82284264 1.86078092]\n",
      " [1.02933288 1.85520027 1.49370747 1.54440323 1.27424265]\n",
      " [1.94727927 1.33257309 1.19365767 1.61008847 1.46607166]\n",
      " [1.99037395 1.55143764 1.28390155 1.46191246 1.47673777]\n",
      " [1.5166985  1.84925052 1.62217849 1.1458573  1.44583264]\n",
      " [1.85393592 1.85157572 1.34150933 1.36468046 1.14560665]\n",
      " [1.2619745  1.73879162 1.6056522  1.73259003 1.23562495]\n",
      " [1.05713985 1.62073436 1.73237172 1.0209323  1.0209985 ]\n",
      " [1.39895916 1.87410737 1.81193799 1.26751131 1.16775725]\n",
      " [1.41003867 1.79650198 1.62261081 1.59912223 1.62015153]\n",
      " [1.93899094 1.36084008 1.84924204 1.82672955 1.66859858]\n",
      " [1.12782264 1.08643447 1.27956733 1.572572   1.08271157]\n",
      " [1.20700767 1.0519707  1.63634285 1.2582923  1.62819092]\n",
      " [1.55232295 1.2722494  1.64808625 1.66470503 1.16909736]\n",
      " [1.61702562 1.8210798  1.26546647 1.70665148 1.88066237]\n",
      " [1.95208674 1.94814584 1.22184743 1.34133754 1.28909337]\n",
      " [1.43336446 1.26786011 1.46017979 1.36125157 1.25984804]\n",
      " [1.66378072 1.37457569 1.03337956 1.54097985 1.52934219]]\n"
     ]
    }
   ],
   "source": [
    "import numpy as np\n",
    "\n",
    "# matrix of size 20X5 with random numbers from 1 to 2\n",
    "matrix = np.random.uniform (1, 2, size= (20, 5))\n",
    "\n",
    "print(matrix)"
   ]
  },
  {
   "cell_type": "markdown",
   "metadata": {},
   "source": [
    "#### Using Pandas create a dataframe out of this matrix. Name the columns of the dataframe as “a”, “b”, “c”, “d”, “e”."
   ]
  },
  {
   "cell_type": "code",
   "execution_count": 17,
   "metadata": {},
   "outputs": [
    {
     "name": "stdout",
     "output_type": "stream",
     "text": [
      "           a         b         c         d         e\n",
      "0   1.178222  1.968814  1.280779  1.317316  1.907907\n",
      "1   1.661052  1.879978  1.963040  1.011080  1.602290\n",
      "2   1.730685  1.575008  1.618756  1.822843  1.860781\n",
      "3   1.029333  1.855200  1.493707  1.544403  1.274243\n",
      "4   1.947279  1.332573  1.193658  1.610088  1.466072\n",
      "5   1.990374  1.551438  1.283902  1.461912  1.476738\n",
      "6   1.516699  1.849251  1.622178  1.145857  1.445833\n",
      "7   1.853936  1.851576  1.341509  1.364680  1.145607\n",
      "8   1.261975  1.738792  1.605652  1.732590  1.235625\n",
      "9   1.057140  1.620734  1.732372  1.020932  1.020998\n",
      "10  1.398959  1.874107  1.811938  1.267511  1.167757\n",
      "11  1.410039  1.796502  1.622611  1.599122  1.620152\n",
      "12  1.938991  1.360840  1.849242  1.826730  1.668599\n",
      "13  1.127823  1.086434  1.279567  1.572572  1.082712\n",
      "14  1.207008  1.051971  1.636343  1.258292  1.628191\n",
      "15  1.552323  1.272249  1.648086  1.664705  1.169097\n",
      "16  1.617026  1.821080  1.265466  1.706651  1.880662\n",
      "17  1.952087  1.948146  1.221847  1.341338  1.289093\n",
      "18  1.433364  1.267860  1.460180  1.361252  1.259848\n",
      "19  1.663781  1.374576  1.033380  1.540980  1.529342\n"
     ]
    }
   ],
   "source": [
    "import pandas as pd\n",
    "\n",
    "# dataframe from the matrix\n",
    "dataframe = pd.DataFrame (data=matrix, columns= ['a', 'b', 'c', 'd', 'e'])\n",
    "print(dataframe)"
   ]
  },
  {
   "cell_type": "markdown",
   "metadata": {},
   "source": [
    "#### Find the column with the highest standard deviation."
   ]
  },
  {
   "cell_type": "code",
   "execution_count": 18,
   "metadata": {},
   "outputs": [
    {
     "name": "stdout",
     "output_type": "stream",
     "text": [
      "a    0.315944\n",
      "b    0.296694\n",
      "c    0.251041\n",
      "d    0.244454\n",
      "e    0.272253\n",
      "dtype: float64\n",
      "\n",
      "Column with the highest standard deviation: a\n"
     ]
    }
   ],
   "source": [
    "standard_deviation = dataframe.std()\n",
    "print(standard_deviation)\n",
    "column_with_highest_standard_deviation = standard_deviation.idxmax()\n",
    "print()\n",
    "print(\"Column with the highest standard deviation:\", column_with_highest_standard_deviation)\n"
   ]
  },
  {
   "cell_type": "markdown",
   "metadata": {},
   "source": [
    "#### Find the row with the lowest mean."
   ]
  },
  {
   "cell_type": "code",
   "execution_count": 19,
   "metadata": {},
   "outputs": [
    {
     "name": "stdout",
     "output_type": "stream",
     "text": [
      "0     1.530607\n",
      "1     1.623488\n",
      "2     1.721615\n",
      "3     1.439377\n",
      "4     1.509934\n",
      "5     1.552873\n",
      "6     1.515963\n",
      "7     1.511462\n",
      "8     1.514927\n",
      "9     1.290435\n",
      "10    1.504055\n",
      "11    1.609685\n",
      "12    1.728880\n",
      "13    1.229822\n",
      "14    1.356361\n",
      "15    1.461292\n",
      "16    1.658177\n",
      "17    1.550502\n",
      "18    1.356501\n",
      "19    1.428412\n",
      "dtype: float64\n",
      "\n",
      "Row with the lowest mean: 13\n"
     ]
    }
   ],
   "source": [
    "row_means = dataframe.mean(axis=1)\n",
    "print(row_means)\n",
    "row_with_lowest_mean = row_means.idxmin()\n",
    "print()\n",
    "print(\"Row with the lowest mean:\", row_with_lowest_mean)\n"
   ]
  },
  {
   "cell_type": "markdown",
   "metadata": {},
   "source": [
    "### Question 11\n",
    "### Add a new column to the dataframe called “f” which is the sum of the columns “a”, “b”, “c”, “d”, “e”. Create another column called “g”. The value in the column “g” should be “LT8” if the value in the column “f” is less than 8 and “GT8” otherwise. Find the number of rows in the dataframe where the value in the column “g” is “LT8”. Find the standard deviation of the column “f” for the rows where the value in the column “g” is “LT8” and “GT8” respectively."
   ]
  },
  {
   "cell_type": "markdown",
   "metadata": {},
   "source": [
    "#### Add a new column to the dataframe called “f” which is the sum of the columns “a”, “b”, “c”, “d”, “e”."
   ]
  },
  {
   "cell_type": "code",
   "execution_count": 20,
   "metadata": {},
   "outputs": [
    {
     "name": "stdout",
     "output_type": "stream",
     "text": [
      "           a         b         c         d         e         f\n",
      "0   1.178222  1.968814  1.280779  1.317316  1.907907  7.653037\n",
      "1   1.661052  1.879978  1.963040  1.011080  1.602290  8.117440\n",
      "2   1.730685  1.575008  1.618756  1.822843  1.860781  8.608073\n",
      "3   1.029333  1.855200  1.493707  1.544403  1.274243  7.196886\n",
      "4   1.947279  1.332573  1.193658  1.610088  1.466072  7.549670\n",
      "5   1.990374  1.551438  1.283902  1.461912  1.476738  7.764363\n",
      "6   1.516699  1.849251  1.622178  1.145857  1.445833  7.579817\n",
      "7   1.853936  1.851576  1.341509  1.364680  1.145607  7.557308\n",
      "8   1.261975  1.738792  1.605652  1.732590  1.235625  7.574633\n",
      "9   1.057140  1.620734  1.732372  1.020932  1.020998  6.452177\n",
      "10  1.398959  1.874107  1.811938  1.267511  1.167757  7.520273\n",
      "11  1.410039  1.796502  1.622611  1.599122  1.620152  8.048425\n",
      "12  1.938991  1.360840  1.849242  1.826730  1.668599  8.644401\n",
      "13  1.127823  1.086434  1.279567  1.572572  1.082712  6.149108\n",
      "14  1.207008  1.051971  1.636343  1.258292  1.628191  6.781804\n",
      "15  1.552323  1.272249  1.648086  1.664705  1.169097  7.306461\n",
      "16  1.617026  1.821080  1.265466  1.706651  1.880662  8.290886\n",
      "17  1.952087  1.948146  1.221847  1.341338  1.289093  7.752511\n",
      "18  1.433364  1.267860  1.460180  1.361252  1.259848  6.782504\n",
      "19  1.663781  1.374576  1.033380  1.540980  1.529342  7.142058\n"
     ]
    }
   ],
   "source": [
    "dataframe['f'] = dataframe.sum(axis=1)\n",
    "print(dataframe)"
   ]
  },
  {
   "cell_type": "markdown",
   "metadata": {},
   "source": [
    "#### Create another column called “g”. The value in the column “g” should be “LT8” if the value in the column “f” is less than 8 and “GT8” otherwise. "
   ]
  },
  {
   "cell_type": "code",
   "execution_count": 21,
   "metadata": {},
   "outputs": [
    {
     "name": "stdout",
     "output_type": "stream",
     "text": [
      "           a         b         c         d         e         f    g\n",
      "0   1.178222  1.968814  1.280779  1.317316  1.907907  7.653037  LT8\n",
      "1   1.661052  1.879978  1.963040  1.011080  1.602290  8.117440  GT8\n",
      "2   1.730685  1.575008  1.618756  1.822843  1.860781  8.608073  GT8\n",
      "3   1.029333  1.855200  1.493707  1.544403  1.274243  7.196886  LT8\n",
      "4   1.947279  1.332573  1.193658  1.610088  1.466072  7.549670  LT8\n",
      "5   1.990374  1.551438  1.283902  1.461912  1.476738  7.764363  LT8\n",
      "6   1.516699  1.849251  1.622178  1.145857  1.445833  7.579817  LT8\n",
      "7   1.853936  1.851576  1.341509  1.364680  1.145607  7.557308  LT8\n",
      "8   1.261975  1.738792  1.605652  1.732590  1.235625  7.574633  LT8\n",
      "9   1.057140  1.620734  1.732372  1.020932  1.020998  6.452177  LT8\n",
      "10  1.398959  1.874107  1.811938  1.267511  1.167757  7.520273  LT8\n",
      "11  1.410039  1.796502  1.622611  1.599122  1.620152  8.048425  GT8\n",
      "12  1.938991  1.360840  1.849242  1.826730  1.668599  8.644401  GT8\n",
      "13  1.127823  1.086434  1.279567  1.572572  1.082712  6.149108  LT8\n",
      "14  1.207008  1.051971  1.636343  1.258292  1.628191  6.781804  LT8\n",
      "15  1.552323  1.272249  1.648086  1.664705  1.169097  7.306461  LT8\n",
      "16  1.617026  1.821080  1.265466  1.706651  1.880662  8.290886  GT8\n",
      "17  1.952087  1.948146  1.221847  1.341338  1.289093  7.752511  LT8\n",
      "18  1.433364  1.267860  1.460180  1.361252  1.259848  6.782504  LT8\n",
      "19  1.663781  1.374576  1.033380  1.540980  1.529342  7.142058  LT8\n"
     ]
    }
   ],
   "source": [
    "dataframe['g'] = np.where(dataframe['f'] < 8 , 'LT8' , 'GT8')\n",
    "print(dataframe)"
   ]
  },
  {
   "cell_type": "markdown",
   "metadata": {},
   "source": [
    "#### Find the number of rows in the dataframe where the value in the column “g” is “LT8”. "
   ]
  },
  {
   "cell_type": "code",
   "execution_count": 22,
   "metadata": {},
   "outputs": [
    {
     "name": "stdout",
     "output_type": "stream",
     "text": [
      "           a         b         c         d         e         f    g\n",
      "0   1.178222  1.968814  1.280779  1.317316  1.907907  7.653037  LT8\n",
      "3   1.029333  1.855200  1.493707  1.544403  1.274243  7.196886  LT8\n",
      "4   1.947279  1.332573  1.193658  1.610088  1.466072  7.549670  LT8\n",
      "5   1.990374  1.551438  1.283902  1.461912  1.476738  7.764363  LT8\n",
      "6   1.516699  1.849251  1.622178  1.145857  1.445833  7.579817  LT8\n",
      "7   1.853936  1.851576  1.341509  1.364680  1.145607  7.557308  LT8\n",
      "8   1.261975  1.738792  1.605652  1.732590  1.235625  7.574633  LT8\n",
      "9   1.057140  1.620734  1.732372  1.020932  1.020998  6.452177  LT8\n",
      "10  1.398959  1.874107  1.811938  1.267511  1.167757  7.520273  LT8\n",
      "13  1.127823  1.086434  1.279567  1.572572  1.082712  6.149108  LT8\n",
      "14  1.207008  1.051971  1.636343  1.258292  1.628191  6.781804  LT8\n",
      "15  1.552323  1.272249  1.648086  1.664705  1.169097  7.306461  LT8\n",
      "17  1.952087  1.948146  1.221847  1.341338  1.289093  7.752511  LT8\n",
      "18  1.433364  1.267860  1.460180  1.361252  1.259848  6.782504  LT8\n",
      "19  1.663781  1.374576  1.033380  1.540980  1.529342  7.142058  LT8\n",
      "\n",
      "The number of rows in the dataframe where the value in the column “g” is “LT8” 15\n"
     ]
    }
   ],
   "source": [
    "print(dataframe[dataframe['g'] == 'LT8'])\n",
    "num_rows = len(dataframe[dataframe['g'] == 'LT8'])\n",
    "print()\n",
    "print('The number of rows in the dataframe where the value in the column “g” is “LT8”' , num_rows)"
   ]
  },
  {
   "cell_type": "markdown",
   "metadata": {},
   "source": [
    "#### Find the standard deviation of the column “f” for the rows where the value in the column “g” is “LT8” and “GT8” respectively."
   ]
  },
  {
   "cell_type": "code",
   "execution_count": 23,
   "metadata": {},
   "outputs": [
    {
     "name": "stdout",
     "output_type": "stream",
     "text": [
      "g\n",
      "GT8    0.274530\n",
      "LT8    0.496766\n",
      "Name: f, dtype: float64\n"
     ]
    }
   ],
   "source": [
    "print(dataframe.groupby('g')['f'].std())"
   ]
  },
  {
   "cell_type": "markdown",
   "metadata": {},
   "source": [
    "### Question 12\n",
    "### Write a small piece of code to explain broadcasting in numpy."
   ]
  },
  {
   "cell_type": "code",
   "execution_count": 24,
   "metadata": {},
   "outputs": [
    {
     "name": "stdout",
     "output_type": "stream",
     "text": [
      "[[ 6  7  8]\n",
      " [ 9 10 11]\n",
      " [12 13 14]]\n"
     ]
    }
   ],
   "source": [
    "import numpy as np\n",
    "#  2D array \n",
    "a = np.array([[1,2,3],[4,5,6],[7,8,9]])\n",
    "# print(a)\n",
    "# 1D array\n",
    "b = np.array([5]*3)\n",
    "# print(b)\n",
    "# Add the two arrays of different shapes\n",
    "# numpy automatically broadcasts b to match the shape of a\n",
    "c = a + b\n",
    "print(c)"
   ]
  },
  {
   "cell_type": "markdown",
   "metadata": {},
   "source": [
    "### Question 13\n",
    "### Write a function to compute the argmin of a numpy array. The function should take a numpy array as input and return the index of the minimum element. You can use the np.argmin function to verify your solution."
   ]
  },
  {
   "cell_type": "code",
   "execution_count": 25,
   "metadata": {},
   "outputs": [
    {
     "name": "stdout",
     "output_type": "stream",
     "text": [
      "Array: [ 1 12 14 -1  5]\n",
      "Index of the minimum element: 3\n",
      "Using np.argmin: 3\n"
     ]
    }
   ],
   "source": [
    "import numpy as np\n",
    "\n",
    "def argmin(array):\n",
    "    min_value = array[0]\n",
    "    min_index = 0\n",
    "    for _ in range(1, len(array)):\n",
    "        if array[_] < min_value:\n",
    "          min_value = array[_]\n",
    "          min_index = _\n",
    "    return min_index\n",
    "\n",
    "array = np.array([1, 12, 14, -1, 5])\n",
    "print(\"Array:\", array)\n",
    "print(\"Index of the minimum element:\", argmin(array))\n",
    "\n",
    "# Verify the solution using np.argmin\n",
    "print(\"Using np.argmin:\", np.argmin(array))\n"
   ]
  },
  {
   "cell_type": "code",
   "execution_count": null,
   "metadata": {},
   "outputs": [],
   "source": []
  }
 ],
 "metadata": {
  "kernelspec": {
   "display_name": "Python 3 (ipykernel)",
   "language": "python",
   "name": "python3"
  },
  "language_info": {
   "codemirror_mode": {
    "name": "ipython",
    "version": 3
   },
   "file_extension": ".py",
   "mimetype": "text/x-python",
   "name": "python",
   "nbconvert_exporter": "python",
   "pygments_lexer": "ipython3",
   "version": "3.9.8"
  }
 },
 "nbformat": 4,
 "nbformat_minor": 4
}
